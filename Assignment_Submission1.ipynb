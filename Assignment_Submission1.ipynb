{
  "cells": [
    {
      "cell_type": "markdown",
      "metadata": {
        "id": "view-in-github",
        "colab_type": "text"
      },
      "source": [
        "<a href=\"https://colab.research.google.com/github/Jaywestty/Python-Web-Scraping/blob/main/Assignment_Submission1.ipynb\" target=\"_parent\"><img src=\"https://colab.research.google.com/assets/colab-badge.svg\" alt=\"Open In Colab\"/></a>"
      ]
    },
    {
      "cell_type": "markdown",
      "metadata": {
        "id": "OM9KSnDW8-BK"
      },
      "source": [
        "### WEB SCRAPING THE NATIONAL HEART,LUNG AND BLOOD INSTITUTE WEBSITE"
      ]
    },
    {
      "cell_type": "markdown",
      "metadata": {
        "id": "OrRBhgBi8-BM"
      },
      "source": [
        "The main aim of this project is to web scrape the 'https://www.nhlbi.nih.gov/health', get the condition names, condition information, the symptoms and diagnosis, and to also convert the scraped information to a csv dataset.  "
      ]
    },
    {
      "cell_type": "code",
      "execution_count": null,
      "metadata": {
        "id": "URKkZrJ88-BM"
      },
      "outputs": [],
      "source": [
        "#Importing the necessary libraries\n",
        "\n",
        "import pandas as pd\n",
        "import requests\n",
        "from bs4 import BeautifulSoup"
      ]
    },
    {
      "cell_type": "code",
      "execution_count": null,
      "metadata": {
        "id": "kTyizEtZ8-BN"
      },
      "outputs": [],
      "source": [
        "#The Url of the desired website to scrape\n",
        "\n",
        "url = 'https://www.nhlbi.nih.gov/health?page='\n",
        "reponse = requests.get(url)\n",
        "soup = BeautifulSoup(reponse.text, 'html.parser')"
      ]
    },
    {
      "cell_type": "code",
      "execution_count": null,
      "metadata": {
        "id": "uiMWbTTg8-BO",
        "outputId": "7959c62a-86b1-4b6a-8aff-3d88e85892fe"
      },
      "outputs": [
        {
          "name": "stdout",
          "output_type": "stream",
          "text": [
            "200, Access granted successfully\n"
          ]
        }
      ],
      "source": [
        "print(f'{reponse.status_code}, Access granted successfully')"
      ]
    },
    {
      "cell_type": "code",
      "execution_count": null,
      "metadata": {
        "id": "y13xYQ8Z8-BP"
      },
      "outputs": [],
      "source": [
        "#To scrape topic name\n",
        "health_topics = []\n",
        "\n",
        "#Fecthing all page html from 0 to 12.\n",
        "for page in range(13):\n",
        "    page_url = url + str(page)\n",
        "    res = requests.get(page_url)\n",
        "    page_soup = BeautifulSoup(res.text, 'html.parser')\n",
        "\n",
        "    #To Scrape All Topics\n",
        "    for name in page_soup.find_all('h4', class_=\"field field--name-title field--type-string field--label-hidden field__item\"):\n",
        "\n",
        "        name_topic = name.get_text(strip=True)\n",
        "\n",
        "        health_topics.append(name_topic)\n"
      ]
    },
    {
      "cell_type": "code",
      "execution_count": null,
      "metadata": {
        "id": "g5aLP5rq8-BQ",
        "outputId": "460fd0b9-ab14-4c84-a6d0-a40d21931e58"
      },
      "outputs": [
        {
          "data": {
            "text/plain": [
              "['Acute Respiratory Distress Syndrome',\n",
              " 'Alpha-1 Antitrypsin Deficiency',\n",
              " 'Anemia',\n",
              " 'Angina (Chest Pain)',\n",
              " 'Antiphospholipid Syndrome (APS)',\n",
              " 'Aortic Aneurysm',\n",
              " 'Aplastic Anemia',\n",
              " 'Arrhythmias',\n",
              " 'Asthma',\n",
              " 'Atherosclerosis',\n",
              " 'Atrial Fibrillation',\n",
              " 'Bleeding Disorders',\n",
              " 'Blood Cholesterol',\n",
              " 'Blood Clotting Disorders',\n",
              " 'Blood Tests',\n",
              " 'Bronchiectasis',\n",
              " 'Bronchitis',\n",
              " 'Bronchopulmonary Dysplasia (BPD)',\n",
              " 'Cardiac Arrest',\n",
              " 'Cardiac Catheterization',\n",
              " 'Cardiogenic Shock',\n",
              " 'Cardiomyopathy',\n",
              " 'Childhood Interstitial Lung Disease',\n",
              " 'Circadian Rhythm Disorders',\n",
              " 'Clinical Trials',\n",
              " 'Conduction Disorders',\n",
              " 'Congenital Heart Defects',\n",
              " 'COPD',\n",
              " 'Coronary Artery Bypass Grafting',\n",
              " 'Coronary Heart Disease',\n",
              " 'CPAP',\n",
              " 'Cystic Fibrosis',\n",
              " 'Defibrillators',\n",
              " 'Disseminated Intravascular Coagulation (DIC)',\n",
              " 'Genetic Therapies',\n",
              " 'Heart Attack',\n",
              " 'Heart Failure',\n",
              " 'Heart Inflammation',\n",
              " 'Heart Surgery',\n",
              " 'Heart Tests',\n",
              " 'Heart Treatments',\n",
              " 'Heart Valve Diseases',\n",
              " 'Heart-Healthy Living',\n",
              " 'Hemolytic Anemia',\n",
              " 'High Blood Pressure',\n",
              " 'High Blood Triglycerides',\n",
              " 'How Sleep Works',\n",
              " 'How the Heart Works',\n",
              " 'How the Lungs Work',\n",
              " 'Hypersensitivity Pneumonitis',\n",
              " 'Immune Thrombocytopenia (ITP)',\n",
              " 'Insomnia',\n",
              " 'Interstitial Lung Diseases',\n",
              " 'Iron-Deficiency Anemia',\n",
              " 'LAM',\n",
              " 'Long QT Syndrome',\n",
              " 'Low Blood Pressure',\n",
              " 'Lung Disease Treatments',\n",
              " 'Lymphopenia',\n",
              " 'Marfan Syndrome',\n",
              " 'Metabolic Syndrome',\n",
              " 'Narcolepsy',\n",
              " 'Newborn Breathing Conditions',\n",
              " 'Obesity Hypoventilation Syndrome',\n",
              " 'Overweight and Obesity',\n",
              " 'Pacemakers',\n",
              " 'Peripheral Artery Disease',\n",
              " 'Physical Activity and Your Heart',\n",
              " 'Platelet Disorders',\n",
              " 'Pleural Disorders',\n",
              " 'Pneumonia',\n",
              " 'Polycythemia Vera',\n",
              " 'Primary Ciliary Dyskinesia',\n",
              " 'Pulmonary Fibrosis',\n",
              " 'Pulmonary Hypertension',\n",
              " 'Pulmonary Rehabilitation',\n",
              " 'Respiratory Distress Syndrome (RDS)',\n",
              " 'Respiratory Failure',\n",
              " 'Sarcoidosis',\n",
              " 'Sickle Cell Disease',\n",
              " 'Sleep Apnea',\n",
              " 'Sleep Deprivation and Deficiency',\n",
              " 'Sleep Disorder Treatments',\n",
              " 'Sleep Studies',\n",
              " 'Smoking and Your Heart',\n",
              " 'Stents',\n",
              " 'Stroke',\n",
              " 'Tests for Lung Disease',\n",
              " 'Thalassemia',\n",
              " 'Thrombocythemia and Thrombocytosis',\n",
              " 'Thrombocytopenia',\n",
              " 'Thrombotic Thrombocytopenic Purpura (TTP)',\n",
              " 'Total Artificial Heart',\n",
              " 'Transcatheter Aortic Valve Replacement (TAVR)',\n",
              " 'Treatments for Blood Disorders',\n",
              " 'Varicose Veins',\n",
              " 'Vascular Dementia',\n",
              " 'Vasculitis',\n",
              " 'Venous Thromboembolism',\n",
              " 'Ventilator/Ventilator Support',\n",
              " 'Vitamin B12–Deficiency Anemia',\n",
              " 'Wolff-Parkinson-White Syndrome']"
            ]
          },
          "execution_count": 8,
          "metadata": {},
          "output_type": "execute_result"
        }
      ],
      "source": [
        "health_topics"
      ]
    },
    {
      "cell_type": "code",
      "execution_count": null,
      "metadata": {
        "id": "fsoYlw068-BQ",
        "outputId": "afcc27d6-3e3d-4fad-b872-407d2a7ddca8"
      },
      "outputs": [
        {
          "data": {
            "text/plain": [
              "102"
            ]
          },
          "execution_count": 61,
          "metadata": {},
          "output_type": "execute_result"
        }
      ],
      "source": [
        "#Checking the length\n",
        "\n",
        "len(health_topics)"
      ]
    },
    {
      "cell_type": "code",
      "execution_count": null,
      "metadata": {
        "id": "o_9L3tpx8-BR",
        "outputId": "5c00ccbc-cd45-4e43-92c7-e4506f68e47f"
      },
      "outputs": [
        {
          "name": "stdout",
          "output_type": "stream",
          "text": [
            "Scraping content: https://www.nhlbi.nih.gov/health/ards/symptoms\n",
            "Scraping content: https://www.nhlbi.nih.gov/health/alpha-1-antitrypsin-deficiency/symptoms\n",
            "Scraping content: https://www.nhlbi.nih.gov/health/anemia/symptoms\n",
            "Scraping content: https://www.nhlbi.nih.gov/health/angina/symptoms\n",
            "Scraping content: https://www.nhlbi.nih.gov/health/antiphospholipid-syndrome/symptoms\n",
            "Scraping content: https://www.nhlbi.nih.gov/health/aortic-aneurysm/symptoms\n",
            "Scraping content: https://www.nhlbi.nih.gov/health/anemia/aplastic-anemia/symptoms\n",
            "Scraping content: https://www.nhlbi.nih.gov/health/arrhythmias/symptoms\n",
            "Scraping content: https://www.nhlbi.nih.gov/health/asthma/symptoms\n",
            "Scraping content: https://www.nhlbi.nih.gov/health/atherosclerosis/symptoms\n",
            "Scraping content: https://www.nhlbi.nih.gov/health/atrial-fibrillation/symptoms\n",
            "Scraping content: https://www.nhlbi.nih.gov/health/bleeding-disorders/symptoms\n",
            "Scraping content: https://www.nhlbi.nih.gov/health/blood-cholesterol/symptoms\n",
            "Scraping content: https://www.nhlbi.nih.gov/health/clotting-disorders/symptoms\n",
            "Scraping content: https://www.nhlbi.nih.gov/health/blood-tests/symptoms\n",
            "Scraping content: https://www.nhlbi.nih.gov/health/bronchiectasis/symptoms\n",
            "Scraping content: https://www.nhlbi.nih.gov/health/bronchitis/symptoms\n",
            "Scraping content: https://www.nhlbi.nih.gov/health/bronchopulmonary-dysplasia/symptoms\n",
            "Scraping content: https://www.nhlbi.nih.gov/health/cardiac-arrest/symptoms\n",
            "Scraping content: https://www.nhlbi.nih.gov/health/cardiac-catheterization/symptoms\n",
            "Scraping content: https://www.nhlbi.nih.gov/health/cardiogenic-shock/symptoms\n",
            "Scraping content: https://www.nhlbi.nih.gov/health/cardiomyopathy/symptoms\n",
            "Scraping content: https://www.nhlbi.nih.gov/health/childhood-interstitial-lung-diseases/symptoms\n",
            "Scraping content: https://www.nhlbi.nih.gov/health/circadian-rhythm-disorders/symptoms\n",
            "Scraping content: https://www.nhlbi.nih.gov/research/clinical-trials/how-studies-work/symptoms\n",
            "Scraping content: https://www.nhlbi.nih.gov/health/conduction-disorders/symptoms\n",
            "Scraping content: https://www.nhlbi.nih.gov/health/congenital-heart-defects/symptoms\n",
            "Scraping content: https://www.nhlbi.nih.gov/health/copd/symptoms\n",
            "Scraping content: https://www.nhlbi.nih.gov/health/coronary-artery-bypass-grafting/symptoms\n",
            "Scraping content: https://www.nhlbi.nih.gov/health/coronary-heart-disease/symptoms\n",
            "Scraping content: https://www.nhlbi.nih.gov/health/cpap/symptoms\n",
            "Scraping content: https://www.nhlbi.nih.gov/health/cystic-fibrosis/symptoms\n",
            "Scraping content: https://www.nhlbi.nih.gov/health/defibrillators/symptoms\n",
            "Scraping content: https://www.nhlbi.nih.gov/health/disseminated-intravascular-coagulation/symptoms\n",
            "Scraping content: https://www.nhlbi.nih.gov/health/genetic-therapies/symptoms\n",
            "Scraping content: https://www.nhlbi.nih.gov/health/heart-attack/symptoms\n",
            "Scraping content: https://www.nhlbi.nih.gov/health/heart-failure/symptoms\n",
            "Scraping content: https://www.nhlbi.nih.gov/health/heart-inflammation/symptoms\n",
            "Scraping content: https://www.nhlbi.nih.gov/health/heart-surgery/symptoms\n",
            "Scraping content: https://www.nhlbi.nih.gov/health/heart-tests/symptoms\n",
            "Scraping content: https://www.nhlbi.nih.gov/health/heart-treatments-procedures/symptoms\n",
            "Scraping content: https://www.nhlbi.nih.gov/health/heart-valve-diseases/symptoms\n",
            "Scraping content: https://www.nhlbi.nih.gov/health/heart-healthy-living/symptoms\n",
            "Scraping content: https://www.nhlbi.nih.gov/health/anemia/hemolytic-anemia/symptoms\n",
            "Scraping content: https://www.nhlbi.nih.gov/health/high-blood-pressure/symptoms\n",
            "Scraping content: https://www.nhlbi.nih.gov/health/high-blood-triglycerides/symptoms\n",
            "Scraping content: https://www.nhlbi.nih.gov/health/sleep/symptoms\n",
            "Scraping content: https://www.nhlbi.nih.gov/health/heart/symptoms\n",
            "Scraping content: https://www.nhlbi.nih.gov/health/lungs/symptoms\n",
            "Scraping content: https://www.nhlbi.nih.gov/health/hypersensitivity-pneumonitis/symptoms\n",
            "Scraping content: https://www.nhlbi.nih.gov/health/immune-thrombocytopenia/symptoms\n",
            "Scraping content: https://www.nhlbi.nih.gov/health/insomnia/symptoms\n",
            "Scraping content: https://www.nhlbi.nih.gov/health/interstitial-lung-diseases/symptoms\n",
            "Scraping content: https://www.nhlbi.nih.gov/health/anemia/iron-deficiency-anemia/symptoms\n",
            "Scraping content: https://www.nhlbi.nih.gov/health/lam/symptoms\n",
            "Scraping content: https://www.nhlbi.nih.gov/health/long-qt-syndrome/symptoms\n",
            "Scraping content: https://www.nhlbi.nih.gov/health/low-blood-pressure/symptoms\n",
            "Scraping content: https://www.nhlbi.nih.gov/health/lung-treatments/symptoms\n",
            "Scraping content: https://www.nhlbi.nih.gov/health/lymphopenia/symptoms\n",
            "Scraping content: https://www.nhlbi.nih.gov/health/marfan-syndrome/symptoms\n",
            "Scraping content: https://www.nhlbi.nih.gov/health/metabolic-syndrome/symptoms\n",
            "Scraping content: https://www.nhlbi.nih.gov/health/narcolepsy/symptoms\n",
            "Scraping content: https://www.nhlbi.nih.gov/health/newborn-breathing-conditions/symptoms\n",
            "Scraping content: https://www.nhlbi.nih.gov/health/obesity-hypoventilation-syndrome/symptoms\n",
            "Scraping content: https://www.nhlbi.nih.gov/health/overweight-and-obesity/symptoms\n",
            "Scraping content: https://www.nhlbi.nih.gov/health/pacemakers/symptoms\n",
            "Scraping content: https://www.nhlbi.nih.gov/health/peripheral-artery-disease/symptoms\n",
            "Scraping content: https://www.nhlbi.nih.gov/health/heart/physical-activity/symptoms\n",
            "Scraping content: https://www.nhlbi.nih.gov/health/platelet-disorders/symptoms\n",
            "Scraping content: https://www.nhlbi.nih.gov/health/pleural-disorders/symptoms\n",
            "Scraping content: https://www.nhlbi.nih.gov/health/pneumonia/symptoms\n",
            "Scraping content: https://www.nhlbi.nih.gov/health/polycythemia-vera/symptoms\n",
            "Scraping content: https://www.nhlbi.nih.gov/health/primary-ciliary-dyskinesia/symptoms\n",
            "Scraping content: https://www.nhlbi.nih.gov/health/idiopathic-pulmonary-fibrosis/symptoms\n",
            "Scraping content: https://www.nhlbi.nih.gov/health/pulmonary-hypertension/symptoms\n",
            "Scraping content: https://www.nhlbi.nih.gov/health/pulmonary-rehabilitation/symptoms\n",
            "Scraping content: https://www.nhlbi.nih.gov/health/respiratory-distress-syndrome/symptoms\n",
            "Scraping content: https://www.nhlbi.nih.gov/health/respiratory-failure/symptoms\n",
            "Scraping content: https://www.nhlbi.nih.gov/health/sarcoidosis/symptoms\n",
            "Scraping content: https://www.nhlbi.nih.gov/health/sickle-cell-disease/symptoms\n",
            "Scraping content: https://www.nhlbi.nih.gov/health/sleep-apnea/symptoms\n",
            "Scraping content: https://www.nhlbi.nih.gov/health/sleep-deprivation/symptoms\n",
            "Scraping content: https://www.nhlbi.nih.gov/health/sleep-disorder-treatments/symptoms\n",
            "Scraping content: https://www.nhlbi.nih.gov/health/sleep-studies/symptoms\n",
            "Scraping content: https://www.nhlbi.nih.gov/health/heart/smoking/symptoms\n",
            "Scraping content: https://www.nhlbi.nih.gov/health/stents/symptoms\n",
            "Scraping content: https://www.nhlbi.nih.gov/health/stroke/symptoms\n",
            "Scraping content: https://www.nhlbi.nih.gov/health/lung-tests/symptoms\n",
            "Scraping content: https://www.nhlbi.nih.gov/health/thalassemia/symptoms\n",
            "Scraping content: https://www.nhlbi.nih.gov/health/thrombocythemia-thrombocytosis/symptoms\n",
            "Scraping content: https://www.nhlbi.nih.gov/health/thrombocytopenia/symptoms\n",
            "Scraping content: https://www.nhlbi.nih.gov/health/thrombotic-thrombocytopenic-purpura/symptoms\n",
            "Scraping content: https://www.nhlbi.nih.gov/health/total-artificial-heart/symptoms\n",
            "Scraping content: https://www.nhlbi.nih.gov/health/tavr/symptoms\n",
            "Scraping content: https://www.nhlbi.nih.gov/health/blood-bone-marrow-treatments/symptoms\n",
            "Scraping content: https://www.nhlbi.nih.gov/health/varicose-veins/symptoms\n",
            "Scraping content: https://www.nhlbi.nih.gov/health/vascular-dementia/symptoms\n",
            "Scraping content: https://www.nhlbi.nih.gov/health/vasculitis/symptoms\n",
            "Scraping content: https://www.nhlbi.nih.gov/health/venous-thromboembolism/symptoms\n",
            "Scraping content: https://www.nhlbi.nih.gov/health/ventilator/symptoms\n",
            "Scraping content: https://www.nhlbi.nih.gov/health/anemia/vitamin-b12-deficiency-anemia/symptoms\n",
            "Scraping content: https://www.nhlbi.nih.gov/health/wolff-parkinson-white-syndrome/symptoms\n"
          ]
        }
      ],
      "source": [
        "topic_link = []\n",
        "symptom_link=[]\n",
        "symptoms = []\n",
        "\n",
        "#Fecthing all page html from 0 to 12.\n",
        "for page in range(13):\n",
        "    page_url = url + str(page)\n",
        "    res = requests.get(page_url)\n",
        "    page_soup = BeautifulSoup(res.text, 'html.parser')\n",
        "\n",
        "    #To scrape all topic links\n",
        "    for link in page_soup.find_all('a', class_=\"title-link\", href=True):\n",
        "        health_link = 'https://www.nhlbi.nih.gov'+ link['href']\n",
        "        topic_link.append(health_link)\n",
        "\n",
        "#Remove Duplicates from the topic_link to stop infinte loading.\n",
        "topic_link = list(dict.fromkeys(topic_link))\n",
        "\n",
        "#To scrape all symptom links\n",
        "for s_link in topic_link:\n",
        "    s_link_s = s_link + str('/symptoms')\n",
        "    symptom_link.append(s_link_s)\n",
        "\n",
        "#To Scrape All Symptoms Content\n",
        "for sys in symptom_link:\n",
        "        print('Scraping content:', sys)\n",
        "        sys_res = requests.get(sys)\n",
        "        sys_soup = BeautifulSoup(sys_res.text,'html.parser')\n",
        "\n",
        "        # Locate all content divs with the specific class\n",
        "        content_div = sys_soup.find_all('div', class_=\"field field--name-field-component-section-content field--type-text-long field--label-hidden clearfix field__item\")\n",
        "\n",
        "        # Initialize content dictionary for each topic\n",
        "        content = {\n",
        "            \"Symptoms\":'N/A',\n",
        "            'Common Symptoms':'N/A',\n",
        "            'Other Symptoms':'N/A',\n",
        "        }\n",
        "\n",
        "        # Map content divs to sections based on their availability\n",
        "        if len(content_div) > 0:\n",
        "            content[\"Symptoms\"] = content_div[0].get_text(strip=True, separator=\"\\n\")\n",
        "        if len(content_div) > 1:\n",
        "            content['Common Symptoms'] = content_div[1].get_text(strip=True, separator=\"\\n\")\n",
        "        if len(content_div) > 2:\n",
        "            content['Other Symptoms'] = content_div[2].get_text(strip=True, separator=\"\\n\")\n",
        "\n",
        "        # Append the symptoms for this topic\n",
        "        symptoms.append({\n",
        "            'Symptoms':content[\"Symptoms\"],\n",
        "            'Common Symptoms':content['Common Symptoms'],\n",
        "            'Other Symptoms':content['Other Symptoms'],\n",
        "            })\n",
        "\n",
        "\n",
        "#Create a dataframe for the symptoms\n",
        "pd_symptom = pd.DataFrame(symptoms)\n"
      ]
    },
    {
      "cell_type": "code",
      "execution_count": null,
      "metadata": {
        "id": "RIvkC4oD8-BR",
        "outputId": "7a28e23b-724e-4e63-efff-e9a676c949b5"
      },
      "outputs": [
        {
          "data": {
            "text/html": [
              "<div>\n",
              "<style scoped>\n",
              "    .dataframe tbody tr th:only-of-type {\n",
              "        vertical-align: middle;\n",
              "    }\n",
              "\n",
              "    .dataframe tbody tr th {\n",
              "        vertical-align: top;\n",
              "    }\n",
              "\n",
              "    .dataframe thead th {\n",
              "        text-align: right;\n",
              "    }\n",
              "</style>\n",
              "<table border=\"1\" class=\"dataframe\">\n",
              "  <thead>\n",
              "    <tr style=\"text-align: right;\">\n",
              "      <th></th>\n",
              "      <th>Symptoms</th>\n",
              "      <th>Common Symptoms</th>\n",
              "      <th>Other Symptoms</th>\n",
              "    </tr>\n",
              "  </thead>\n",
              "  <tbody>\n",
              "    <tr>\n",
              "      <th>0</th>\n",
              "      <td>Difficulty breathing is usually the first symp...</td>\n",
              "      <td>N/A</td>\n",
              "      <td>N/A</td>\n",
              "    </tr>\n",
              "    <tr>\n",
              "      <th>1</th>\n",
              "      <td>N/A</td>\n",
              "      <td>N/A</td>\n",
              "      <td>N/A</td>\n",
              "    </tr>\n",
              "    <tr>\n",
              "      <th>2</th>\n",
              "      <td>N/A</td>\n",
              "      <td>N/A</td>\n",
              "      <td>N/A</td>\n",
              "    </tr>\n",
              "    <tr>\n",
              "      <th>3</th>\n",
              "      <td>Symptoms vary based on the\\ntype of angina\\nyo...</td>\n",
              "      <td>The main symptom of angina is chest pain or di...</td>\n",
              "      <td>Symptoms of angina can be different for women ...</td>\n",
              "    </tr>\n",
              "    <tr>\n",
              "      <th>4</th>\n",
              "      <td>N/A</td>\n",
              "      <td>N/A</td>\n",
              "      <td>N/A</td>\n",
              "    </tr>\n",
              "  </tbody>\n",
              "</table>\n",
              "</div>"
            ],
            "text/plain": [
              "                                            Symptoms  \\\n",
              "0  Difficulty breathing is usually the first symp...   \n",
              "1                                                N/A   \n",
              "2                                                N/A   \n",
              "3  Symptoms vary based on the\\ntype of angina\\nyo...   \n",
              "4                                                N/A   \n",
              "\n",
              "                                     Common Symptoms  \\\n",
              "0                                                N/A   \n",
              "1                                                N/A   \n",
              "2                                                N/A   \n",
              "3  The main symptom of angina is chest pain or di...   \n",
              "4                                                N/A   \n",
              "\n",
              "                                      Other Symptoms  \n",
              "0                                                N/A  \n",
              "1                                                N/A  \n",
              "2                                                N/A  \n",
              "3  Symptoms of angina can be different for women ...  \n",
              "4                                                N/A  "
            ]
          },
          "execution_count": 63,
          "metadata": {},
          "output_type": "execute_result"
        }
      ],
      "source": [
        "pd_symptom.head(5)"
      ]
    },
    {
      "cell_type": "code",
      "execution_count": null,
      "metadata": {
        "id": "m5eW5cM68-BS",
        "outputId": "355ada50-289c-47a9-8afe-4471e92ab002"
      },
      "outputs": [
        {
          "data": {
            "text/plain": [
              "(102, 3)"
            ]
          },
          "execution_count": 65,
          "metadata": {},
          "output_type": "execute_result"
        }
      ],
      "source": [
        "pd_symptom.shape"
      ]
    },
    {
      "cell_type": "code",
      "execution_count": null,
      "metadata": {
        "id": "zqCf_wlF8-BS",
        "outputId": "a40aaae2-a8ed-4cfd-c2bb-fa9a563be9ae"
      },
      "outputs": [
        {
          "data": {
            "text/plain": [
              "102"
            ]
          },
          "execution_count": 64,
          "metadata": {},
          "output_type": "execute_result"
        }
      ],
      "source": [
        "len(symptoms)"
      ]
    },
    {
      "cell_type": "code",
      "execution_count": null,
      "metadata": {
        "id": "Q97GlHZ-8-BT",
        "outputId": "66606d6f-61bd-4460-d85d-91e73f9222bc"
      },
      "outputs": [
        {
          "name": "stdout",
          "output_type": "stream",
          "text": [
            "Scraping content: https://www.nhlbi.nih.gov/health/ards/diagnosis\n",
            "Scraping content: https://www.nhlbi.nih.gov/health/alpha-1-antitrypsin-deficiency/diagnosis\n",
            "Scraping content: https://www.nhlbi.nih.gov/health/anemia/diagnosis\n",
            "Scraping content: https://www.nhlbi.nih.gov/health/angina/diagnosis\n",
            "Scraping content: https://www.nhlbi.nih.gov/health/antiphospholipid-syndrome/diagnosis\n",
            "Scraping content: https://www.nhlbi.nih.gov/health/aortic-aneurysm/diagnosis\n",
            "Scraping content: https://www.nhlbi.nih.gov/health/anemia/aplastic-anemia/diagnosis\n",
            "Scraping content: https://www.nhlbi.nih.gov/health/arrhythmias/diagnosis\n",
            "Scraping content: https://www.nhlbi.nih.gov/health/asthma/diagnosis\n",
            "Scraping content: https://www.nhlbi.nih.gov/health/atherosclerosis/diagnosis\n",
            "Scraping content: https://www.nhlbi.nih.gov/health/atrial-fibrillation/diagnosis\n",
            "Scraping content: https://www.nhlbi.nih.gov/health/bleeding-disorders/diagnosis\n",
            "Scraping content: https://www.nhlbi.nih.gov/health/blood-cholesterol/diagnosis\n",
            "Scraping content: https://www.nhlbi.nih.gov/health/clotting-disorders/diagnosis\n",
            "Scraping content: https://www.nhlbi.nih.gov/health/blood-tests/diagnosis\n",
            "Scraping content: https://www.nhlbi.nih.gov/health/bronchiectasis/diagnosis\n",
            "Scraping content: https://www.nhlbi.nih.gov/health/bronchitis/diagnosis\n",
            "Scraping content: https://www.nhlbi.nih.gov/health/bronchopulmonary-dysplasia/diagnosis\n",
            "Scraping content: https://www.nhlbi.nih.gov/health/cardiac-arrest/diagnosis\n",
            "Scraping content: https://www.nhlbi.nih.gov/health/cardiac-catheterization/diagnosis\n",
            "Scraping content: https://www.nhlbi.nih.gov/health/cardiogenic-shock/diagnosis\n",
            "Scraping content: https://www.nhlbi.nih.gov/health/cardiomyopathy/diagnosis\n",
            "Scraping content: https://www.nhlbi.nih.gov/health/childhood-interstitial-lung-diseases/diagnosis\n",
            "Scraping content: https://www.nhlbi.nih.gov/health/circadian-rhythm-disorders/diagnosis\n",
            "Scraping content: https://www.nhlbi.nih.gov/research/clinical-trials/how-studies-work/diagnosis\n",
            "Scraping content: https://www.nhlbi.nih.gov/health/conduction-disorders/diagnosis\n",
            "Scraping content: https://www.nhlbi.nih.gov/health/congenital-heart-defects/diagnosis\n",
            "Scraping content: https://www.nhlbi.nih.gov/health/copd/diagnosis\n",
            "Scraping content: https://www.nhlbi.nih.gov/health/coronary-artery-bypass-grafting/diagnosis\n",
            "Scraping content: https://www.nhlbi.nih.gov/health/coronary-heart-disease/diagnosis\n",
            "Scraping content: https://www.nhlbi.nih.gov/health/cpap/diagnosis\n",
            "Scraping content: https://www.nhlbi.nih.gov/health/cystic-fibrosis/diagnosis\n",
            "Scraping content: https://www.nhlbi.nih.gov/health/defibrillators/diagnosis\n",
            "Scraping content: https://www.nhlbi.nih.gov/health/disseminated-intravascular-coagulation/diagnosis\n",
            "Scraping content: https://www.nhlbi.nih.gov/health/genetic-therapies/diagnosis\n",
            "Scraping content: https://www.nhlbi.nih.gov/health/heart-attack/diagnosis\n",
            "Scraping content: https://www.nhlbi.nih.gov/health/heart-failure/diagnosis\n",
            "Scraping content: https://www.nhlbi.nih.gov/health/heart-inflammation/diagnosis\n",
            "Scraping content: https://www.nhlbi.nih.gov/health/heart-surgery/diagnosis\n",
            "Scraping content: https://www.nhlbi.nih.gov/health/heart-tests/diagnosis\n",
            "Scraping content: https://www.nhlbi.nih.gov/health/heart-treatments-procedures/diagnosis\n",
            "Scraping content: https://www.nhlbi.nih.gov/health/heart-valve-diseases/diagnosis\n",
            "Scraping content: https://www.nhlbi.nih.gov/health/heart-healthy-living/diagnosis\n",
            "Scraping content: https://www.nhlbi.nih.gov/health/anemia/hemolytic-anemia/diagnosis\n",
            "Scraping content: https://www.nhlbi.nih.gov/health/high-blood-pressure/diagnosis\n",
            "Scraping content: https://www.nhlbi.nih.gov/health/high-blood-triglycerides/diagnosis\n",
            "Scraping content: https://www.nhlbi.nih.gov/health/sleep/diagnosis\n",
            "Scraping content: https://www.nhlbi.nih.gov/health/heart/diagnosis\n",
            "Scraping content: https://www.nhlbi.nih.gov/health/lungs/diagnosis\n",
            "Scraping content: https://www.nhlbi.nih.gov/health/hypersensitivity-pneumonitis/diagnosis\n",
            "Scraping content: https://www.nhlbi.nih.gov/health/immune-thrombocytopenia/diagnosis\n",
            "Scraping content: https://www.nhlbi.nih.gov/health/insomnia/diagnosis\n",
            "Scraping content: https://www.nhlbi.nih.gov/health/interstitial-lung-diseases/diagnosis\n",
            "Scraping content: https://www.nhlbi.nih.gov/health/anemia/iron-deficiency-anemia/diagnosis\n",
            "Scraping content: https://www.nhlbi.nih.gov/health/lam/diagnosis\n",
            "Scraping content: https://www.nhlbi.nih.gov/health/long-qt-syndrome/diagnosis\n",
            "Scraping content: https://www.nhlbi.nih.gov/health/low-blood-pressure/diagnosis\n",
            "Scraping content: https://www.nhlbi.nih.gov/health/lung-treatments/diagnosis\n",
            "Scraping content: https://www.nhlbi.nih.gov/health/lymphopenia/diagnosis\n",
            "Scraping content: https://www.nhlbi.nih.gov/health/marfan-syndrome/diagnosis\n",
            "Scraping content: https://www.nhlbi.nih.gov/health/metabolic-syndrome/diagnosis\n",
            "Scraping content: https://www.nhlbi.nih.gov/health/narcolepsy/diagnosis\n",
            "Scraping content: https://www.nhlbi.nih.gov/health/newborn-breathing-conditions/diagnosis\n",
            "Scraping content: https://www.nhlbi.nih.gov/health/obesity-hypoventilation-syndrome/diagnosis\n",
            "Scraping content: https://www.nhlbi.nih.gov/health/overweight-and-obesity/diagnosis\n",
            "Scraping content: https://www.nhlbi.nih.gov/health/pacemakers/diagnosis\n",
            "Scraping content: https://www.nhlbi.nih.gov/health/peripheral-artery-disease/diagnosis\n",
            "Scraping content: https://www.nhlbi.nih.gov/health/heart/physical-activity/diagnosis\n",
            "Scraping content: https://www.nhlbi.nih.gov/health/platelet-disorders/diagnosis\n",
            "Scraping content: https://www.nhlbi.nih.gov/health/pleural-disorders/diagnosis\n",
            "Scraping content: https://www.nhlbi.nih.gov/health/pneumonia/diagnosis\n",
            "Scraping content: https://www.nhlbi.nih.gov/health/polycythemia-vera/diagnosis\n",
            "Scraping content: https://www.nhlbi.nih.gov/health/primary-ciliary-dyskinesia/diagnosis\n",
            "Scraping content: https://www.nhlbi.nih.gov/health/idiopathic-pulmonary-fibrosis/diagnosis\n",
            "Scraping content: https://www.nhlbi.nih.gov/health/pulmonary-hypertension/diagnosis\n",
            "Scraping content: https://www.nhlbi.nih.gov/health/pulmonary-rehabilitation/diagnosis\n",
            "Scraping content: https://www.nhlbi.nih.gov/health/respiratory-distress-syndrome/diagnosis\n",
            "Scraping content: https://www.nhlbi.nih.gov/health/respiratory-failure/diagnosis\n",
            "Scraping content: https://www.nhlbi.nih.gov/health/sarcoidosis/diagnosis\n",
            "Scraping content: https://www.nhlbi.nih.gov/health/sickle-cell-disease/diagnosis\n",
            "Scraping content: https://www.nhlbi.nih.gov/health/sleep-apnea/diagnosis\n",
            "Scraping content: https://www.nhlbi.nih.gov/health/sleep-deprivation/diagnosis\n",
            "Scraping content: https://www.nhlbi.nih.gov/health/sleep-disorder-treatments/diagnosis\n",
            "Scraping content: https://www.nhlbi.nih.gov/health/sleep-studies/diagnosis\n",
            "Scraping content: https://www.nhlbi.nih.gov/health/heart/smoking/diagnosis\n",
            "Scraping content: https://www.nhlbi.nih.gov/health/stents/diagnosis\n",
            "Scraping content: https://www.nhlbi.nih.gov/health/stroke/diagnosis\n",
            "Scraping content: https://www.nhlbi.nih.gov/health/lung-tests/diagnosis\n",
            "Scraping content: https://www.nhlbi.nih.gov/health/thalassemia/diagnosis\n",
            "Scraping content: https://www.nhlbi.nih.gov/health/thrombocythemia-thrombocytosis/diagnosis\n",
            "Scraping content: https://www.nhlbi.nih.gov/health/thrombocytopenia/diagnosis\n",
            "Scraping content: https://www.nhlbi.nih.gov/health/thrombotic-thrombocytopenic-purpura/diagnosis\n",
            "Scraping content: https://www.nhlbi.nih.gov/health/total-artificial-heart/diagnosis\n",
            "Scraping content: https://www.nhlbi.nih.gov/health/tavr/diagnosis\n",
            "Scraping content: https://www.nhlbi.nih.gov/health/blood-bone-marrow-treatments/diagnosis\n",
            "Scraping content: https://www.nhlbi.nih.gov/health/varicose-veins/diagnosis\n",
            "Scraping content: https://www.nhlbi.nih.gov/health/vascular-dementia/diagnosis\n",
            "Scraping content: https://www.nhlbi.nih.gov/health/vasculitis/diagnosis\n",
            "Scraping content: https://www.nhlbi.nih.gov/health/venous-thromboembolism/diagnosis\n",
            "Scraping content: https://www.nhlbi.nih.gov/health/ventilator/diagnosis\n",
            "Scraping content: https://www.nhlbi.nih.gov/health/anemia/vitamin-b12-deficiency-anemia/diagnosis\n",
            "Scraping content: https://www.nhlbi.nih.gov/health/wolff-parkinson-white-syndrome/diagnosis\n"
          ]
        }
      ],
      "source": [
        "topic_link = []\n",
        "diagnosis_link=[]\n",
        "diagnosis = []\n",
        "\n",
        "#Fecthing all page html from 0 to 12.\n",
        "for page in range(13):\n",
        "    page_url = url + str(page)\n",
        "    res = requests.get(page_url)\n",
        "    page_soup = BeautifulSoup(res.text, 'html.parser')\n",
        "\n",
        "    #To scrape all topic links\n",
        "    for link in page_soup.find_all('a', class_=\"title-link\", href=True):\n",
        "        health_link = 'https://www.nhlbi.nih.gov'+ link['href']\n",
        "        topic_link.append(health_link)\n",
        "\n",
        "#Remove Duplicates from the topic_link to stop infinte loading.\n",
        "topic_link = list(dict.fromkeys(topic_link))\n",
        "\n",
        "#To scrape all diagnosis links\n",
        "for d_link in topic_link:\n",
        "    d_link_d = d_link + str('/diagnosis')\n",
        "    diagnosis_link.append(d_link_d)\n",
        "\n",
        "#To Scrape All Symptoms Content\n",
        "for dyd in diagnosis_link:\n",
        "        print('Scraping content:', dyd)\n",
        "        dyd_res = requests.get(dyd)\n",
        "        dyd_soup = BeautifulSoup(dyd_res.text,'html.parser')\n",
        "\n",
        "         # Locate all content divs with the specific class\n",
        "        content_di = dyd_soup.find_all('div', class_=\"field field--name-field-component-section-content field--type-text-long field--label-hidden clearfix field__item\")\n",
        "\n",
        "        # Initialize content dictionary for each topic\n",
        "        cont = {\n",
        "        \"Medical History\":'N/A',\n",
        "        'Physical Exam':'N/A',\n",
        "        'Diagnostic Test':'N/A',\n",
        "        'Other Test':'N/A'\n",
        "        }\n",
        "\n",
        "         # Map content divs to sections based on their availability\n",
        "        if len(content_di) > 0:\n",
        "            cont[\"Medical History\"] = content_di[0].get_text(strip=True, separator=\"\\n\")\n",
        "        if len(content_di) > 1:\n",
        "            cont['Physical Exam'] = content_di[1].get_text(strip=True, separator=\"\\n\")\n",
        "        if len(content_di) > 2:\n",
        "            cont['Diagnostic Test'] = content_di[2].get_text(strip=True, separator=\"\\n\")\n",
        "        if len(content_di) > 3:\n",
        "            cont['Other Test'] = content_di[3].get_text(strip=True, separator=\"\\n\")\n",
        "\n",
        "         # Append the diagnosis for this topic\n",
        "        diagnosis.append({\n",
        "            'Medical History':cont[\"Medical History\"],\n",
        "            'Physical Exam':cont['Physical Exam'],\n",
        "            'Diagnostic Test':cont['Diagnostic Test'],\n",
        "            'Other Test':cont['Other Test']\n",
        "            })\n",
        "\n",
        "\n",
        "\n",
        "\n",
        "\n",
        "\n",
        "#Create a dataframe for the diagnosis\n",
        "pd_diagnosis = pd.DataFrame(diagnosis)\n"
      ]
    },
    {
      "cell_type": "code",
      "execution_count": null,
      "metadata": {
        "id": "6PLH8uMG8-BU",
        "outputId": "829ba9d5-b479-4cf3-c192-8e5b125044fd"
      },
      "outputs": [
        {
          "data": {
            "text/html": [
              "<div>\n",
              "<style scoped>\n",
              "    .dataframe tbody tr th:only-of-type {\n",
              "        vertical-align: middle;\n",
              "    }\n",
              "\n",
              "    .dataframe tbody tr th {\n",
              "        vertical-align: top;\n",
              "    }\n",
              "\n",
              "    .dataframe thead th {\n",
              "        text-align: right;\n",
              "    }\n",
              "</style>\n",
              "<table border=\"1\" class=\"dataframe\">\n",
              "  <thead>\n",
              "    <tr style=\"text-align: right;\">\n",
              "      <th></th>\n",
              "      <th>Medical History</th>\n",
              "      <th>Physical Exam</th>\n",
              "      <th>Diagnostic Test</th>\n",
              "      <th>Other Test</th>\n",
              "    </tr>\n",
              "  </thead>\n",
              "  <tbody>\n",
              "    <tr>\n",
              "      <th>0</th>\n",
              "      <td>Your doctor will diagnose acute respiratory di...</td>\n",
              "      <td>To help diagnose ARDS, your doctor may ask you...</td>\n",
              "      <td>Your doctor will examine you for signs of ARDS...</td>\n",
              "      <td>To diagnose ARDS, your doctor may have you und...</td>\n",
              "    </tr>\n",
              "    <tr>\n",
              "      <th>1</th>\n",
              "      <td>N/A</td>\n",
              "      <td>N/A</td>\n",
              "      <td>N/A</td>\n",
              "      <td>N/A</td>\n",
              "    </tr>\n",
              "    <tr>\n",
              "      <th>2</th>\n",
              "      <td>Blood test results\\nThe table below shows some...</td>\n",
              "      <td>N/A</td>\n",
              "      <td>N/A</td>\n",
              "      <td>N/A</td>\n",
              "    </tr>\n",
              "    <tr>\n",
              "      <th>3</th>\n",
              "      <td>Your healthcare provider may diagnose angina b...</td>\n",
              "      <td>Your healthcare provider will want to learn ab...</td>\n",
              "      <td>As part of a physical exam, your healthcare pr...</td>\n",
              "      <td>Depending on your symptoms and risk factors, y...</td>\n",
              "    </tr>\n",
              "    <tr>\n",
              "      <th>4</th>\n",
              "      <td>N/A</td>\n",
              "      <td>N/A</td>\n",
              "      <td>N/A</td>\n",
              "      <td>N/A</td>\n",
              "    </tr>\n",
              "  </tbody>\n",
              "</table>\n",
              "</div>"
            ],
            "text/plain": [
              "                                     Medical History  \\\n",
              "0  Your doctor will diagnose acute respiratory di...   \n",
              "1                                                N/A   \n",
              "2  Blood test results\\nThe table below shows some...   \n",
              "3  Your healthcare provider may diagnose angina b...   \n",
              "4                                                N/A   \n",
              "\n",
              "                                       Physical Exam  \\\n",
              "0  To help diagnose ARDS, your doctor may ask you...   \n",
              "1                                                N/A   \n",
              "2                                                N/A   \n",
              "3  Your healthcare provider will want to learn ab...   \n",
              "4                                                N/A   \n",
              "\n",
              "                                     Diagnostic Test  \\\n",
              "0  Your doctor will examine you for signs of ARDS...   \n",
              "1                                                N/A   \n",
              "2                                                N/A   \n",
              "3  As part of a physical exam, your healthcare pr...   \n",
              "4                                                N/A   \n",
              "\n",
              "                                          Other Test  \n",
              "0  To diagnose ARDS, your doctor may have you und...  \n",
              "1                                                N/A  \n",
              "2                                                N/A  \n",
              "3  Depending on your symptoms and risk factors, y...  \n",
              "4                                                N/A  "
            ]
          },
          "execution_count": 70,
          "metadata": {},
          "output_type": "execute_result"
        }
      ],
      "source": [
        "pd_diagnosis.head(5)"
      ]
    },
    {
      "cell_type": "code",
      "execution_count": null,
      "metadata": {
        "id": "BnPYBd-98-BU",
        "outputId": "e2512921-e652-4993-f80c-ae3326469ef9"
      },
      "outputs": [
        {
          "data": {
            "text/plain": [
              "102"
            ]
          },
          "execution_count": 71,
          "metadata": {},
          "output_type": "execute_result"
        }
      ],
      "source": [
        "len(diagnosis)"
      ]
    },
    {
      "cell_type": "code",
      "execution_count": null,
      "metadata": {
        "id": "fLvzk5tJ8-BU",
        "outputId": "4ba084b6-7874-41f7-f1c5-1c903556b3c1"
      },
      "outputs": [
        {
          "data": {
            "text/plain": [
              "(102, 4)"
            ]
          },
          "execution_count": 72,
          "metadata": {},
          "output_type": "execute_result"
        }
      ],
      "source": [
        "pd_diagnosis.shape"
      ]
    },
    {
      "cell_type": "code",
      "execution_count": null,
      "metadata": {
        "id": "hYTYcKbt8-BV"
      },
      "outputs": [],
      "source": [
        "#To Scrape info\n",
        "topic_info = []\n",
        "\n",
        "#Fecthing all page html from 0 to 12.\n",
        "for page in range(13):\n",
        "    page_url = url + str(page)\n",
        "    res = requests.get(page_url)\n",
        "    page_soup = BeautifulSoup(res.text, 'html.parser')\n",
        "\n",
        "    #To scrape all info\n",
        "    for info in page_soup.find_all('div', class_=\"field field--name-field-health-topic-summary field--type-text-long field--label-hidden field__item\"):\n",
        "        info_topic = info.get_text(strip=True, separator='\\n')\n",
        "\n",
        "        topic_info.append(info_topic)\n"
      ]
    },
    {
      "cell_type": "code",
      "execution_count": null,
      "metadata": {
        "id": "2HQzIZmm8-BV",
        "outputId": "93254d89-8096-4006-a712-05bb83848c79"
      },
      "outputs": [
        {
          "data": {
            "text/plain": [
              "102"
            ]
          },
          "execution_count": 74,
          "metadata": {},
          "output_type": "execute_result"
        }
      ],
      "source": [
        "len(topic_info)"
      ]
    },
    {
      "cell_type": "code",
      "execution_count": null,
      "metadata": {
        "id": "qnBAeVNZ8-BV"
      },
      "outputs": [],
      "source": [
        "#Creating a dataframe for the topic name, topic link and topic info\n",
        "data = pd.DataFrame()\n",
        "data['Condition Name']=health_topics\n",
        "data['Condition Link']=topic_link\n",
        "data['Condition Info']=topic_info\n"
      ]
    },
    {
      "cell_type": "code",
      "execution_count": null,
      "metadata": {
        "id": "QrSlObW98-BV",
        "outputId": "9eded35d-e9f6-45e8-c5e2-72dd92c21d2d"
      },
      "outputs": [
        {
          "data": {
            "text/html": [
              "<div>\n",
              "<style scoped>\n",
              "    .dataframe tbody tr th:only-of-type {\n",
              "        vertical-align: middle;\n",
              "    }\n",
              "\n",
              "    .dataframe tbody tr th {\n",
              "        vertical-align: top;\n",
              "    }\n",
              "\n",
              "    .dataframe thead th {\n",
              "        text-align: right;\n",
              "    }\n",
              "</style>\n",
              "<table border=\"1\" class=\"dataframe\">\n",
              "  <thead>\n",
              "    <tr style=\"text-align: right;\">\n",
              "      <th></th>\n",
              "      <th>Condition Name</th>\n",
              "      <th>Condition Link</th>\n",
              "      <th>Condition Info</th>\n",
              "    </tr>\n",
              "  </thead>\n",
              "  <tbody>\n",
              "    <tr>\n",
              "      <th>0</th>\n",
              "      <td>Acute Respiratory Distress Syndrome</td>\n",
              "      <td>https://www.nhlbi.nih.gov/health/ards</td>\n",
              "      <td>Acute Respiratory Distress Syndrome (ARDS) is ...</td>\n",
              "    </tr>\n",
              "    <tr>\n",
              "      <th>1</th>\n",
              "      <td>Alpha-1 Antitrypsin Deficiency</td>\n",
              "      <td>https://www.nhlbi.nih.gov/health/alpha-1-antit...</td>\n",
              "      <td>Alpha-1 antitrypsin deficiency is an inherited...</td>\n",
              "    </tr>\n",
              "    <tr>\n",
              "      <th>2</th>\n",
              "      <td>Anemia</td>\n",
              "      <td>https://www.nhlbi.nih.gov/health/anemia</td>\n",
              "      <td>Anemia is a condition in which the blood has a...</td>\n",
              "    </tr>\n",
              "    <tr>\n",
              "      <th>3</th>\n",
              "      <td>Angina (Chest Pain)</td>\n",
              "      <td>https://www.nhlbi.nih.gov/health/angina</td>\n",
              "      <td>Angina is chest pain or discomfort that happen...</td>\n",
              "    </tr>\n",
              "    <tr>\n",
              "      <th>4</th>\n",
              "      <td>Antiphospholipid Syndrome (APS)</td>\n",
              "      <td>https://www.nhlbi.nih.gov/health/antiphospholi...</td>\n",
              "      <td>Antiphospholipid syndrome (APS) is an autoimmu...</td>\n",
              "    </tr>\n",
              "  </tbody>\n",
              "</table>\n",
              "</div>"
            ],
            "text/plain": [
              "                        Condition Name  \\\n",
              "0  Acute Respiratory Distress Syndrome   \n",
              "1       Alpha-1 Antitrypsin Deficiency   \n",
              "2                               Anemia   \n",
              "3                  Angina (Chest Pain)   \n",
              "4      Antiphospholipid Syndrome (APS)   \n",
              "\n",
              "                                      Condition Link  \\\n",
              "0              https://www.nhlbi.nih.gov/health/ards   \n",
              "1  https://www.nhlbi.nih.gov/health/alpha-1-antit...   \n",
              "2            https://www.nhlbi.nih.gov/health/anemia   \n",
              "3            https://www.nhlbi.nih.gov/health/angina   \n",
              "4  https://www.nhlbi.nih.gov/health/antiphospholi...   \n",
              "\n",
              "                                      Condition Info  \n",
              "0  Acute Respiratory Distress Syndrome (ARDS) is ...  \n",
              "1  Alpha-1 antitrypsin deficiency is an inherited...  \n",
              "2  Anemia is a condition in which the blood has a...  \n",
              "3  Angina is chest pain or discomfort that happen...  \n",
              "4  Antiphospholipid syndrome (APS) is an autoimmu...  "
            ]
          },
          "execution_count": 76,
          "metadata": {},
          "output_type": "execute_result"
        }
      ],
      "source": [
        "data.head(5)"
      ]
    },
    {
      "cell_type": "code",
      "execution_count": null,
      "metadata": {
        "id": "KjLLWU6P8-BV",
        "outputId": "ab9c085f-bd5d-4a69-8e1b-4a87e55378dd"
      },
      "outputs": [
        {
          "data": {
            "text/plain": [
              "(102, 3)"
            ]
          },
          "execution_count": 77,
          "metadata": {},
          "output_type": "execute_result"
        }
      ],
      "source": [
        "data.shape"
      ]
    },
    {
      "cell_type": "code",
      "execution_count": null,
      "metadata": {
        "id": "-A6zSV7A8-BW"
      },
      "outputs": [],
      "source": [
        "#Concating the three dataframes (data Pd_symptoms, and the Pd_diagnosis) into one dataset.\n",
        "\n",
        "new_data = pd.concat([data,pd_symptom,pd_diagnosis], axis=1)"
      ]
    },
    {
      "cell_type": "code",
      "execution_count": null,
      "metadata": {
        "id": "Nkw0QtR98-BW",
        "outputId": "955722e8-6177-4e80-fb07-7a7840387d9f"
      },
      "outputs": [
        {
          "data": {
            "text/html": [
              "<div>\n",
              "<style scoped>\n",
              "    .dataframe tbody tr th:only-of-type {\n",
              "        vertical-align: middle;\n",
              "    }\n",
              "\n",
              "    .dataframe tbody tr th {\n",
              "        vertical-align: top;\n",
              "    }\n",
              "\n",
              "    .dataframe thead th {\n",
              "        text-align: right;\n",
              "    }\n",
              "</style>\n",
              "<table border=\"1\" class=\"dataframe\">\n",
              "  <thead>\n",
              "    <tr style=\"text-align: right;\">\n",
              "      <th></th>\n",
              "      <th>Condition Name</th>\n",
              "      <th>Condition Link</th>\n",
              "      <th>Condition Info</th>\n",
              "      <th>Symptoms</th>\n",
              "      <th>Common Symptoms</th>\n",
              "      <th>Other Symptoms</th>\n",
              "      <th>Medical History</th>\n",
              "      <th>Physical Exam</th>\n",
              "      <th>Diagnostic Test</th>\n",
              "      <th>Other Test</th>\n",
              "    </tr>\n",
              "  </thead>\n",
              "  <tbody>\n",
              "    <tr>\n",
              "      <th>0</th>\n",
              "      <td>Acute Respiratory Distress Syndrome</td>\n",
              "      <td>https://www.nhlbi.nih.gov/health/ards</td>\n",
              "      <td>Acute Respiratory Distress Syndrome (ARDS) is ...</td>\n",
              "      <td>Difficulty breathing is usually the first symp...</td>\n",
              "      <td>N/A</td>\n",
              "      <td>N/A</td>\n",
              "      <td>Your doctor will diagnose acute respiratory di...</td>\n",
              "      <td>To help diagnose ARDS, your doctor may ask you...</td>\n",
              "      <td>Your doctor will examine you for signs of ARDS...</td>\n",
              "      <td>To diagnose ARDS, your doctor may have you und...</td>\n",
              "    </tr>\n",
              "    <tr>\n",
              "      <th>1</th>\n",
              "      <td>Alpha-1 Antitrypsin Deficiency</td>\n",
              "      <td>https://www.nhlbi.nih.gov/health/alpha-1-antit...</td>\n",
              "      <td>Alpha-1 antitrypsin deficiency is an inherited...</td>\n",
              "      <td>N/A</td>\n",
              "      <td>N/A</td>\n",
              "      <td>N/A</td>\n",
              "      <td>N/A</td>\n",
              "      <td>N/A</td>\n",
              "      <td>N/A</td>\n",
              "      <td>N/A</td>\n",
              "    </tr>\n",
              "    <tr>\n",
              "      <th>2</th>\n",
              "      <td>Anemia</td>\n",
              "      <td>https://www.nhlbi.nih.gov/health/anemia</td>\n",
              "      <td>Anemia is a condition in which the blood has a...</td>\n",
              "      <td>N/A</td>\n",
              "      <td>N/A</td>\n",
              "      <td>N/A</td>\n",
              "      <td>Blood test results\\nThe table below shows some...</td>\n",
              "      <td>N/A</td>\n",
              "      <td>N/A</td>\n",
              "      <td>N/A</td>\n",
              "    </tr>\n",
              "    <tr>\n",
              "      <th>3</th>\n",
              "      <td>Angina (Chest Pain)</td>\n",
              "      <td>https://www.nhlbi.nih.gov/health/angina</td>\n",
              "      <td>Angina is chest pain or discomfort that happen...</td>\n",
              "      <td>Symptoms vary based on the\\ntype of angina\\nyo...</td>\n",
              "      <td>The main symptom of angina is chest pain or di...</td>\n",
              "      <td>Symptoms of angina can be different for women ...</td>\n",
              "      <td>Your healthcare provider may diagnose angina b...</td>\n",
              "      <td>Your healthcare provider will want to learn ab...</td>\n",
              "      <td>As part of a physical exam, your healthcare pr...</td>\n",
              "      <td>Depending on your symptoms and risk factors, y...</td>\n",
              "    </tr>\n",
              "    <tr>\n",
              "      <th>4</th>\n",
              "      <td>Antiphospholipid Syndrome (APS)</td>\n",
              "      <td>https://www.nhlbi.nih.gov/health/antiphospholi...</td>\n",
              "      <td>Antiphospholipid syndrome (APS) is an autoimmu...</td>\n",
              "      <td>N/A</td>\n",
              "      <td>N/A</td>\n",
              "      <td>N/A</td>\n",
              "      <td>N/A</td>\n",
              "      <td>N/A</td>\n",
              "      <td>N/A</td>\n",
              "      <td>N/A</td>\n",
              "    </tr>\n",
              "  </tbody>\n",
              "</table>\n",
              "</div>"
            ],
            "text/plain": [
              "                        Condition Name  \\\n",
              "0  Acute Respiratory Distress Syndrome   \n",
              "1       Alpha-1 Antitrypsin Deficiency   \n",
              "2                               Anemia   \n",
              "3                  Angina (Chest Pain)   \n",
              "4      Antiphospholipid Syndrome (APS)   \n",
              "\n",
              "                                      Condition Link  \\\n",
              "0              https://www.nhlbi.nih.gov/health/ards   \n",
              "1  https://www.nhlbi.nih.gov/health/alpha-1-antit...   \n",
              "2            https://www.nhlbi.nih.gov/health/anemia   \n",
              "3            https://www.nhlbi.nih.gov/health/angina   \n",
              "4  https://www.nhlbi.nih.gov/health/antiphospholi...   \n",
              "\n",
              "                                      Condition Info  \\\n",
              "0  Acute Respiratory Distress Syndrome (ARDS) is ...   \n",
              "1  Alpha-1 antitrypsin deficiency is an inherited...   \n",
              "2  Anemia is a condition in which the blood has a...   \n",
              "3  Angina is chest pain or discomfort that happen...   \n",
              "4  Antiphospholipid syndrome (APS) is an autoimmu...   \n",
              "\n",
              "                                            Symptoms  \\\n",
              "0  Difficulty breathing is usually the first symp...   \n",
              "1                                                N/A   \n",
              "2                                                N/A   \n",
              "3  Symptoms vary based on the\\ntype of angina\\nyo...   \n",
              "4                                                N/A   \n",
              "\n",
              "                                     Common Symptoms  \\\n",
              "0                                                N/A   \n",
              "1                                                N/A   \n",
              "2                                                N/A   \n",
              "3  The main symptom of angina is chest pain or di...   \n",
              "4                                                N/A   \n",
              "\n",
              "                                      Other Symptoms  \\\n",
              "0                                                N/A   \n",
              "1                                                N/A   \n",
              "2                                                N/A   \n",
              "3  Symptoms of angina can be different for women ...   \n",
              "4                                                N/A   \n",
              "\n",
              "                                     Medical History  \\\n",
              "0  Your doctor will diagnose acute respiratory di...   \n",
              "1                                                N/A   \n",
              "2  Blood test results\\nThe table below shows some...   \n",
              "3  Your healthcare provider may diagnose angina b...   \n",
              "4                                                N/A   \n",
              "\n",
              "                                       Physical Exam  \\\n",
              "0  To help diagnose ARDS, your doctor may ask you...   \n",
              "1                                                N/A   \n",
              "2                                                N/A   \n",
              "3  Your healthcare provider will want to learn ab...   \n",
              "4                                                N/A   \n",
              "\n",
              "                                     Diagnostic Test  \\\n",
              "0  Your doctor will examine you for signs of ARDS...   \n",
              "1                                                N/A   \n",
              "2                                                N/A   \n",
              "3  As part of a physical exam, your healthcare pr...   \n",
              "4                                                N/A   \n",
              "\n",
              "                                          Other Test  \n",
              "0  To diagnose ARDS, your doctor may have you und...  \n",
              "1                                                N/A  \n",
              "2                                                N/A  \n",
              "3  Depending on your symptoms and risk factors, y...  \n",
              "4                                                N/A  "
            ]
          },
          "execution_count": 79,
          "metadata": {},
          "output_type": "execute_result"
        }
      ],
      "source": [
        "new_data.head(5)"
      ]
    },
    {
      "cell_type": "code",
      "execution_count": null,
      "metadata": {
        "id": "N2GoVKPS8-BW",
        "outputId": "5c4dca4c-63c8-462f-c75d-c157cdc1f98f"
      },
      "outputs": [
        {
          "data": {
            "text/plain": [
              "(102, 10)"
            ]
          },
          "execution_count": 80,
          "metadata": {},
          "output_type": "execute_result"
        }
      ],
      "source": [
        "new_data.shape"
      ]
    },
    {
      "cell_type": "code",
      "execution_count": null,
      "metadata": {
        "id": "-R7xOq6s8-BW"
      },
      "outputs": [],
      "source": [
        "#To Export the data to a csv dataset\n",
        "\n",
        "new_data.to_csv('nhlbi.csv', index=False)"
      ]
    },
    {
      "cell_type": "code",
      "execution_count": null,
      "metadata": {
        "id": "b7KD9_mP8-BW"
      },
      "outputs": [],
      "source": []
    }
  ],
  "metadata": {
    "kernelspec": {
      "display_name": "Python 3 (ipykernel)",
      "language": "python",
      "name": "python3"
    },
    "language_info": {
      "codemirror_mode": {
        "name": "ipython",
        "version": 3
      },
      "file_extension": ".py",
      "mimetype": "text/x-python",
      "name": "python",
      "nbconvert_exporter": "python",
      "pygments_lexer": "ipython3",
      "version": "3.12.3"
    },
    "colab": {
      "provenance": [],
      "include_colab_link": true
    }
  },
  "nbformat": 4,
  "nbformat_minor": 0
}